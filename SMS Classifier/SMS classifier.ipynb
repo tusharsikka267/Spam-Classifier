{
 "cells": [
  {
   "cell_type": "code",
   "execution_count": 1,
   "id": "9f1de0b1",
   "metadata": {},
   "outputs": [
    {
     "name": "stdout",
     "output_type": "stream",
     "text": [
      "Requirement already satisfied: numpy in c:\\python310\\lib\\site-packages (1.22.3)\n"
     ]
    },
    {
     "name": "stderr",
     "output_type": "stream",
     "text": [
      "WARNING: Ignoring invalid distribution -p (c:\\python310\\lib\\site-packages)\n",
      "WARNING: Ignoring invalid distribution -9p (c:\\python310\\lib\\site-packages)\n",
      "WARNING: Ignoring invalid distribution -8p (c:\\python310\\lib\\site-packages)\n",
      "WARNING: Ignoring invalid distribution -7p (c:\\python310\\lib\\site-packages)\n",
      "WARNING: Ignoring invalid distribution -6p (c:\\python310\\lib\\site-packages)\n",
      "WARNING: Ignoring invalid distribution -5p (c:\\python310\\lib\\site-packages)\n",
      "WARNING: Ignoring invalid distribution -4p (c:\\python310\\lib\\site-packages)\n",
      "WARNING: Ignoring invalid distribution -3p (c:\\python310\\lib\\site-packages)\n",
      "WARNING: Ignoring invalid distribution -2p (c:\\python310\\lib\\site-packages)\n",
      "WARNING: Ignoring invalid distribution -1p (c:\\python310\\lib\\site-packages)\n",
      "WARNING: Ignoring invalid distribution -p (c:\\python310\\lib\\site-packages)\n",
      "WARNING: Ignoring invalid distribution -0p (c:\\python310\\lib\\site-packages)\n",
      "WARNING: Ignoring invalid distribution -ip (c:\\python310\\lib\\site-packages)\n",
      "WARNING: Ignoring invalid distribution - (c:\\python310\\lib\\site-packages)\n",
      "WARNING: Ignoring invalid distribution -p (c:\\python310\\lib\\site-packages)\n",
      "WARNING: Ignoring invalid distribution -9p (c:\\python310\\lib\\site-packages)\n",
      "WARNING: Ignoring invalid distribution -8p (c:\\python310\\lib\\site-packages)\n",
      "WARNING: Ignoring invalid distribution -7p (c:\\python310\\lib\\site-packages)\n",
      "WARNING: Ignoring invalid distribution -6p (c:\\python310\\lib\\site-packages)\n",
      "WARNING: Ignoring invalid distribution -5p (c:\\python310\\lib\\site-packages)\n",
      "WARNING: Ignoring invalid distribution -4p (c:\\python310\\lib\\site-packages)\n",
      "WARNING: Ignoring invalid distribution -3p (c:\\python310\\lib\\site-packages)\n",
      "WARNING: Ignoring invalid distribution -2p (c:\\python310\\lib\\site-packages)\n",
      "WARNING: Ignoring invalid distribution -1p (c:\\python310\\lib\\site-packages)\n",
      "WARNING: Ignoring invalid distribution -p (c:\\python310\\lib\\site-packages)\n",
      "WARNING: Ignoring invalid distribution -0p (c:\\python310\\lib\\site-packages)\n",
      "WARNING: Ignoring invalid distribution -ip (c:\\python310\\lib\\site-packages)\n",
      "WARNING: Ignoring invalid distribution - (c:\\python310\\lib\\site-packages)\n",
      "WARNING: Ignoring invalid distribution -p (c:\\python310\\lib\\site-packages)\n",
      "WARNING: Ignoring invalid distribution -9p (c:\\python310\\lib\\site-packages)\n",
      "WARNING: Ignoring invalid distribution -8p (c:\\python310\\lib\\site-packages)\n",
      "WARNING: Ignoring invalid distribution -7p (c:\\python310\\lib\\site-packages)\n",
      "WARNING: Ignoring invalid distribution -6p (c:\\python310\\lib\\site-packages)\n",
      "WARNING: Ignoring invalid distribution -5p (c:\\python310\\lib\\site-packages)\n",
      "WARNING: Ignoring invalid distribution -4p (c:\\python310\\lib\\site-packages)\n",
      "WARNING: Ignoring invalid distribution -3p (c:\\python310\\lib\\site-packages)\n",
      "WARNING: Ignoring invalid distribution -2p (c:\\python310\\lib\\site-packages)\n",
      "WARNING: Ignoring invalid distribution -1p (c:\\python310\\lib\\site-packages)\n",
      "WARNING: Ignoring invalid distribution -p (c:\\python310\\lib\\site-packages)\n",
      "WARNING: Ignoring invalid distribution -0p (c:\\python310\\lib\\site-packages)\n",
      "WARNING: Ignoring invalid distribution -ip (c:\\python310\\lib\\site-packages)\n",
      "WARNING: Ignoring invalid distribution - (c:\\python310\\lib\\site-packages)\n",
      "WARNING: Ignoring invalid distribution -p (c:\\python310\\lib\\site-packages)\n",
      "WARNING: Ignoring invalid distribution -9p (c:\\python310\\lib\\site-packages)\n",
      "WARNING: Ignoring invalid distribution -8p (c:\\python310\\lib\\site-packages)\n",
      "WARNING: Ignoring invalid distribution -7p (c:\\python310\\lib\\site-packages)\n",
      "WARNING: Ignoring invalid distribution -6p (c:\\python310\\lib\\site-packages)\n",
      "WARNING: Ignoring invalid distribution -5p (c:\\python310\\lib\\site-packages)\n",
      "WARNING: Ignoring invalid distribution -4p (c:\\python310\\lib\\site-packages)\n",
      "WARNING: Ignoring invalid distribution -3p (c:\\python310\\lib\\site-packages)\n",
      "WARNING: Ignoring invalid distribution -2p (c:\\python310\\lib\\site-packages)\n",
      "WARNING: Ignoring invalid distribution -1p (c:\\python310\\lib\\site-packages)\n",
      "WARNING: Ignoring invalid distribution -p (c:\\python310\\lib\\site-packages)\n",
      "WARNING: Ignoring invalid distribution -0p (c:\\python310\\lib\\site-packages)\n",
      "WARNING: Ignoring invalid distribution -ip (c:\\python310\\lib\\site-packages)\n",
      "WARNING: Ignoring invalid distribution - (c:\\python310\\lib\\site-packages)\n",
      "WARNING: You are using pip version 22.0.4; however, version 22.1.2 is available.\n",
      "You should consider upgrading via the 'C:\\Python310\\python.exe -m pip install --upgrade pip' command.\n",
      "WARNING: Ignoring invalid distribution -p (c:\\python310\\lib\\site-packages)\n",
      "WARNING: Ignoring invalid distribution -9p (c:\\python310\\lib\\site-packages)\n",
      "WARNING: Ignoring invalid distribution -8p (c:\\python310\\lib\\site-packages)\n",
      "WARNING: Ignoring invalid distribution -7p (c:\\python310\\lib\\site-packages)\n",
      "WARNING: Ignoring invalid distribution -6p (c:\\python310\\lib\\site-packages)\n",
      "WARNING: Ignoring invalid distribution -5p (c:\\python310\\lib\\site-packages)\n",
      "WARNING: Ignoring invalid distribution -4p (c:\\python310\\lib\\site-packages)\n",
      "WARNING: Ignoring invalid distribution -3p (c:\\python310\\lib\\site-packages)\n",
      "WARNING: Ignoring invalid distribution -2p (c:\\python310\\lib\\site-packages)\n",
      "WARNING: Ignoring invalid distribution -1p (c:\\python310\\lib\\site-packages)\n",
      "WARNING: Ignoring invalid distribution -p (c:\\python310\\lib\\site-packages)\n",
      "WARNING: Ignoring invalid distribution -0p (c:\\python310\\lib\\site-packages)\n",
      "WARNING: Ignoring invalid distribution -ip (c:\\python310\\lib\\site-packages)\n",
      "WARNING: Ignoring invalid distribution - (c:\\python310\\lib\\site-packages)\n",
      "WARNING: Ignoring invalid distribution -p (c:\\python310\\lib\\site-packages)\n",
      "WARNING: Ignoring invalid distribution -9p (c:\\python310\\lib\\site-packages)\n",
      "WARNING: Ignoring invalid distribution -8p (c:\\python310\\lib\\site-packages)\n",
      "WARNING: Ignoring invalid distribution -7p (c:\\python310\\lib\\site-packages)\n",
      "WARNING: Ignoring invalid distribution -6p (c:\\python310\\lib\\site-packages)\n",
      "WARNING: Ignoring invalid distribution -5p (c:\\python310\\lib\\site-packages)\n",
      "WARNING: Ignoring invalid distribution -4p (c:\\python310\\lib\\site-packages)\n",
      "WARNING: Ignoring invalid distribution -3p (c:\\python310\\lib\\site-packages)\n",
      "WARNING: Ignoring invalid distribution -2p (c:\\python310\\lib\\site-packages)\n",
      "WARNING: Ignoring invalid distribution -1p (c:\\python310\\lib\\site-packages)\n",
      "WARNING: Ignoring invalid distribution -p (c:\\python310\\lib\\site-packages)\n",
      "WARNING: Ignoring invalid distribution -0p (c:\\python310\\lib\\site-packages)\n",
      "WARNING: Ignoring invalid distribution -ip (c:\\python310\\lib\\site-packages)\n",
      "WARNING: Ignoring invalid distribution - (c:\\python310\\lib\\site-packages)\n",
      "WARNING: Ignoring invalid distribution -p (c:\\python310\\lib\\site-packages)\n",
      "WARNING: Ignoring invalid distribution -9p (c:\\python310\\lib\\site-packages)\n",
      "WARNING: Ignoring invalid distribution -8p (c:\\python310\\lib\\site-packages)\n",
      "WARNING: Ignoring invalid distribution -7p (c:\\python310\\lib\\site-packages)\n",
      "WARNING: Ignoring invalid distribution -6p (c:\\python310\\lib\\site-packages)\n",
      "WARNING: Ignoring invalid distribution -5p (c:\\python310\\lib\\site-packages)\n",
      "WARNING: Ignoring invalid distribution -4p (c:\\python310\\lib\\site-packages)\n",
      "WARNING: Ignoring invalid distribution -3p (c:\\python310\\lib\\site-packages)\n",
      "WARNING: Ignoring invalid distribution -2p (c:\\python310\\lib\\site-packages)\n",
      "WARNING: Ignoring invalid distribution -1p (c:\\python310\\lib\\site-packages)\n",
      "WARNING: Ignoring invalid distribution -p (c:\\python310\\lib\\site-packages)\n",
      "WARNING: Ignoring invalid distribution -0p (c:\\python310\\lib\\site-packages)\n",
      "WARNING: Ignoring invalid distribution -ip (c:\\python310\\lib\\site-packages)\n",
      "WARNING: Ignoring invalid distribution - (c:\\python310\\lib\\site-packages)\n",
      "WARNING: Ignoring invalid distribution -p (c:\\python310\\lib\\site-packages)\n",
      "WARNING: Ignoring invalid distribution -9p (c:\\python310\\lib\\site-packages)\n",
      "WARNING: Ignoring invalid distribution -8p (c:\\python310\\lib\\site-packages)\n",
      "WARNING: Ignoring invalid distribution -7p (c:\\python310\\lib\\site-packages)\n",
      "WARNING: Ignoring invalid distribution -6p (c:\\python310\\lib\\site-packages)\n",
      "WARNING: Ignoring invalid distribution -5p (c:\\python310\\lib\\site-packages)\n",
      "WARNING: Ignoring invalid distribution -4p (c:\\python310\\lib\\site-packages)\n",
      "WARNING: Ignoring invalid distribution -3p (c:\\python310\\lib\\site-packages)\n",
      "WARNING: Ignoring invalid distribution -2p (c:\\python310\\lib\\site-packages)\n",
      "WARNING: Ignoring invalid distribution -1p (c:\\python310\\lib\\site-packages)\n",
      "WARNING: Ignoring invalid distribution -p (c:\\python310\\lib\\site-packages)\n",
      "WARNING: Ignoring invalid distribution -0p (c:\\python310\\lib\\site-packages)\n",
      "WARNING: Ignoring invalid distribution -ip (c:\\python310\\lib\\site-packages)\n",
      "WARNING: Ignoring invalid distribution - (c:\\python310\\lib\\site-packages)\n",
      "WARNING: You are using pip version 22.0.4; however, version 22.1.2 is available.\n",
      "You should consider upgrading via the 'C:\\Python310\\python.exe -m pip install --upgrade pip' command.\n"
     ]
    },
    {
     "name": "stdout",
     "output_type": "stream",
     "text": [
      "Requirement already satisfied: pandas in c:\\python310\\lib\\site-packages (1.4.1)\n",
      "Requirement already satisfied: pytz>=2020.1 in c:\\python310\\lib\\site-packages (from pandas) (2022.1)\n",
      "Requirement already satisfied: numpy>=1.21.0 in c:\\python310\\lib\\site-packages (from pandas) (1.22.3)\n",
      "Requirement already satisfied: python-dateutil>=2.8.1 in c:\\python310\\lib\\site-packages (from pandas) (2.8.2)\n",
      "Requirement already satisfied: six>=1.5 in c:\\python310\\lib\\site-packages (from python-dateutil>=2.8.1->pandas) (1.16.0)\n"
     ]
    },
    {
     "ename": "ModuleNotFoundError",
     "evalue": "No module named 'pandas'",
     "output_type": "error",
     "traceback": [
      "\u001b[1;31m---------------------------------------------------------------------------\u001b[0m",
      "\u001b[1;31mModuleNotFoundError\u001b[0m                       Traceback (most recent call last)",
      "Input \u001b[1;32mIn [1]\u001b[0m, in \u001b[0;36m<cell line: 4>\u001b[1;34m()\u001b[0m\n\u001b[0;32m      2\u001b[0m get_ipython()\u001b[38;5;241m.\u001b[39msystem(\u001b[38;5;124m'\u001b[39m\u001b[38;5;124mpip install pandas\u001b[39m\u001b[38;5;124m'\u001b[39m)\n\u001b[0;32m      3\u001b[0m \u001b[38;5;28;01mimport\u001b[39;00m \u001b[38;5;21;01mnumpy\u001b[39;00m \u001b[38;5;28;01mas\u001b[39;00m \u001b[38;5;21;01mnp\u001b[39;00m\n\u001b[1;32m----> 4\u001b[0m \u001b[38;5;28;01mimport\u001b[39;00m \u001b[38;5;21;01mpandas\u001b[39;00m \u001b[38;5;28;01mas\u001b[39;00m \u001b[38;5;21;01mpd\u001b[39;00m\n",
      "\u001b[1;31mModuleNotFoundError\u001b[0m: No module named 'pandas'"
     ]
    }
   ],
   "source": [
    "!pip install numpy\n",
    "!pip install pandas\n",
    "import numpy as np\n",
    "import pandas as pd"
   ]
  },
  {
   "cell_type": "code",
   "execution_count": 5,
   "id": "818b6da9",
   "metadata": {},
   "outputs": [
    {
     "ename": "NameError",
     "evalue": "name 'pd' is not defined",
     "output_type": "error",
     "traceback": [
      "\u001b[1;31m---------------------------------------------------------------------------\u001b[0m",
      "\u001b[1;31mNameError\u001b[0m                                 Traceback (most recent call last)",
      "Input \u001b[1;32mIn [5]\u001b[0m, in \u001b[0;36m<cell line: 1>\u001b[1;34m()\u001b[0m\n\u001b[1;32m----> 1\u001b[0m df\u001b[38;5;241m=\u001b[39m\u001b[43mpd\u001b[49m\u001b[38;5;241m.\u001b[39mread_csv(\u001b[38;5;124m'\u001b[39m\u001b[38;5;124mspam.csv\u001b[39m\u001b[38;5;124m'\u001b[39m)\n",
      "\u001b[1;31mNameError\u001b[0m: name 'pd' is not defined"
     ]
    }
   ],
   "source": [
    "df=pd.read_csv('spam.csv')"
   ]
  },
  {
   "cell_type": "code",
   "execution_count": 4,
   "id": "bed306f8",
   "metadata": {},
   "outputs": [
    {
     "ename": "NameError",
     "evalue": "name 'df' is not defined",
     "output_type": "error",
     "traceback": [
      "\u001b[1;31m---------------------------------------------------------------------------\u001b[0m",
      "\u001b[1;31mNameError\u001b[0m                                 Traceback (most recent call last)",
      "Input \u001b[1;32mIn [4]\u001b[0m, in \u001b[0;36m<cell line: 1>\u001b[1;34m()\u001b[0m\n\u001b[1;32m----> 1\u001b[0m \u001b[43mdf\u001b[49m\u001b[38;5;241m.\u001b[39msample(\u001b[38;5;241m5\u001b[39m)\n",
      "\u001b[1;31mNameError\u001b[0m: name 'df' is not defined"
     ]
    }
   ],
   "source": [
    "df.sample(5)"
   ]
  },
  {
   "cell_type": "code",
   "execution_count": 8,
   "id": "63cb825c",
   "metadata": {},
   "outputs": [
    {
     "name": "stdout",
     "output_type": "stream",
     "text": [
      "Requirement already satisfied: numpy in c:\\users\\hp\\appdata\\local\\programs\\python\\python39\\lib\\site-packages (1.23.1)\n"
     ]
    },
    {
     "name": "stderr",
     "output_type": "stream",
     "text": [
      "WARNING: You are using pip version 22.0.4; however, version 22.1.2 is available.\n",
      "You should consider upgrading via the 'C:\\Users\\hp\\AppData\\Local\\Programs\\Python\\Python39\\python.exe -m pip install --upgrade pip' command.\n"
     ]
    }
   ],
   "source": [
    "import sys\n",
    "!{sys.executable} -m pip install numpy\n"
   ]
  },
  {
   "cell_type": "code",
   "execution_count": null,
   "id": "5093af43",
   "metadata": {},
   "outputs": [],
   "source": [
    "import sys\n",
    "!{sys.executable} -m pip install panda"
   ]
  }
 ],
 "metadata": {
  "kernelspec": {
   "display_name": "Python 3 (ipykernel)",
   "language": "python",
   "name": "python3"
  },
  "language_info": {
   "codemirror_mode": {
    "name": "ipython",
    "version": 3
   },
   "file_extension": ".py",
   "mimetype": "text/x-python",
   "name": "python",
   "nbconvert_exporter": "python",
   "pygments_lexer": "ipython3",
   "version": "3.9.7"
  }
 },
 "nbformat": 4,
 "nbformat_minor": 5
}
